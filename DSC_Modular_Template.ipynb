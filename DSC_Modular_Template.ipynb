{
 "cells": [
  {
   "cell_type": "markdown",
   "id": "1969469f-efc9-4fc6-b85f-6a0de249f752",
   "metadata": {},
   "source": [
    "# **DATA SCIENCE CYCLE PHASES:**\n",
    "## The typical Data Science Cycle is divided into the following phases:\n",
    "* ### PHASE 1: Problem Definition\n",
    "* ### PHASE 2: Data Collection\n",
    "* ### PHASE 3: Data Preparation\n",
    "* ### PHASE 4: Data Exploration and Visualization\n",
    "* ### PHASE 5: Feature Engineering and Preprocessing\n",
    "* ### PHASE 6: Modeling\n",
    "* ### PHASE 7: Model Evaluation\n",
    "* ### PHASE 8: Deployment\n",
    "* ### PHASE 9: Monitoring and Maintenance\n",
    "* ### PHASE 10: Results Communication"
   ]
  },
  {
   "cell_type": "markdown",
   "id": "bea2a2a9-cd0f-4b4a-ba62-540f0261789f",
   "metadata": {},
   "source": [
    " #########################################################################################################################\n",
    "\n",
    "## PHASE 1: Problem Definition\n",
    "\n",
    "**Description:** In this phase, the data scientist works closely with the stakeholders to understand the business problem and define the research question.\n",
    "\n",
    "**Inputs:**\n",
    "\n",
    "* Stakeholder requirements: This input consists of the business objectives, scope, constraints, and other requirements provided by the stakeholders.\n",
    "* Domain knowledge: This input includes the knowledge of the industry, market trends, and other domain-specific information relevant to the problem.\n",
    "\n",
    "**Outputs:**\n",
    "\n",
    "* Research question: The output of this phase is a clear and specific research question that defines the problem statement, the data that will be collected, and the outcome that will be achieved."
   ]
  },
  {
   "cell_type": "code",
   "execution_count": null,
   "id": "d8149b6a-0205-4ab6-a5b4-d3ec2ba55a41",
   "metadata": {},
   "outputs": [],
   "source": []
  },
  {
   "cell_type": "markdown",
   "id": "41072d95-de21-4f3b-8e21-b9d1ec75a50a",
   "metadata": {},
   "source": [
    " #########################################################################################################################\n",
    "## PHASE 2: Data Collection\n",
    "\n",
    "**Description:** In this phase, the data scientist collects the data required to answer the research question.\n",
    "\n",
    "**Inputs:**\n",
    "\n",
    "* Research question: This input defines the data that needs to be collected to answer the research question.\n",
    "* Data sources: This input includes the sources from which the data will be collected, such as databases, APIs, files, or surveys.\n",
    "\n",
    "**Outputs:**\n",
    "\n",
    "* Raw data: The output of this phase is the raw data collected from the data sources."
   ]
  },
  {
   "cell_type": "code",
   "execution_count": null,
   "id": "2eff8c93-3e54-40be-b8db-60777f077a1e",
   "metadata": {},
   "outputs": [],
   "source": []
  },
  {
   "cell_type": "markdown",
   "id": "d76aa5e9-37e7-4933-8d9b-f08f3bcd325b",
   "metadata": {},
   "source": [
    " #########################################################################################################################\n",
    "## PHASE 3: Data Preparation\n",
    "\n",
    "**Description:** In this phase, the data scientist prepares the raw data for further analysis and modeling.\n",
    "\n",
    "**Inputs:**\n",
    "\n",
    "* Raw data: This input is the data collected in the previous phase.\n",
    "* Data cleaning requirements: This input consists of the specific requirements for data cleaning, such as missing value imputation, outlier detection and removal, and data normalization.\n",
    "\n",
    "**Outputs:**\n",
    "\n",
    "* Cleaned data: The output of this phase is the cleaned data, ready for exploration and modeling."
   ]
  },
  {
   "cell_type": "code",
   "execution_count": null,
   "id": "131eb504-4adc-42bd-b224-dc0c1f2d04e9",
   "metadata": {},
   "outputs": [],
   "source": []
  },
  {
   "cell_type": "markdown",
   "id": "ae464e8d-a138-43da-ac6b-39567760f9f4",
   "metadata": {},
   "source": [
    " #########################################################################################################################\n",
    "## PHASE 4: Data Exploration and Visualization\n",
    "\n",
    "**Description:** In this phase, the data scientist explores the cleaned data to gain a deeper understanding of the relationships between the variables and the characteristics of the data.\n",
    "\n",
    "**Inputs:**\n",
    "\n",
    "* Cleaned data: This input is the data prepared in the previous phase.\n",
    "\n",
    "**Outputs:**\n",
    "\n",
    "* Insights and visualizations: The outputs of this phase are the insights gained from exploring the data and the visualizations that illustrate the patterns and relationships in the data."
   ]
  },
  {
   "cell_type": "code",
   "execution_count": null,
   "id": "99933997-cbe6-4b51-8a9f-edc8f2782fa5",
   "metadata": {},
   "outputs": [],
   "source": []
  },
  {
   "cell_type": "markdown",
   "id": "15240e4e-07a6-4b00-a861-dda8c69c448b",
   "metadata": {},
   "source": [
    " #########################################################################################################################\n",
    "## PHASE 5: Feature Engineering and Preprocessing\n",
    "\n",
    "**Description:** In this phase, the data scientist creates new features from the existing data or preprocesses the data to make it suitable for modeling.\n",
    "\n",
    "**Inputs:**\n",
    "\n",
    "* Cleaned data: This input is the data prepared in the previous phase.\n",
    "\n",
    "**Outputs:**\n",
    "\n",
    "* Engineered or preprocessed data: The output of this phase is the data that has been transformed or engineered to make it suitable for modeling."
   ]
  },
  {
   "cell_type": "code",
   "execution_count": null,
   "id": "f6578732-36e1-4e91-ba5c-52ad30aecd27",
   "metadata": {},
   "outputs": [],
   "source": []
  },
  {
   "cell_type": "markdown",
   "id": "5ef751c8-ab9e-47c7-9ca2-f2da90ff8977",
   "metadata": {},
   "source": [
    " #########################################################################################################################\n",
    "## PHASE 6: Modeling\n",
    "\n",
    "**Description:** In this phase, the data scientist selects a suitable model, trains it on the data, and tests its performance.\n",
    "\n",
    "**Inputs:**\n",
    "\n",
    "* Engineered or preprocessed data: This input is the data prepared in the previous phase.\n",
    "* Model selection criteria: This input consists of the criteria used to select a suitable model, such as accuracy, interpretability, and scalability.\n",
    "\n",
    "**Outputs:**\n",
    "\n",
    "* Trained model: The output of this phase is the trained model that can be used to make predictions or generate insights."
   ]
  },
  {
   "cell_type": "code",
   "execution_count": null,
   "id": "13e19b79-7829-4377-b687-e58dc9f58c2c",
   "metadata": {},
   "outputs": [],
   "source": []
  },
  {
   "cell_type": "markdown",
   "id": "95d19648-fdb2-456d-9e78-b3e39267670e",
   "metadata": {},
   "source": [
    " #########################################################################################################################\n",
    "## PHASE 7: Model Evaluation\n",
    "\n",
    "**Description:** In this phase, the data scientist evaluates the performance of the model and fine-tunes its parameters to improve its accuracy and robustness.\n",
    "\n",
    "**Inputs:**\n",
    "\n",
    "* Trained model: This input is the model trained in the previous phase.\n",
    "* Evaluation criteria: This input consists of the criteria used to evaluate the performance of the model. Classification models use metrics such as: accuracy, precision, recall, F1 score and ROC-AUC. Regression models use metrics such as: mean squared error, mean absolute error, negative mean absolute error, negative mean absolute error, mean absolute percentile error, r2, explained variance score, etc.\n",
    "\n",
    "**Outputs:**\n",
    "\n",
    "* Improved model: The output of this phase is the model that has been fine-tuned to achieve better performance."
   ]
  },
  {
   "cell_type": "code",
   "execution_count": null,
   "id": "cd578476-b18e-48d8-ab76-c76c1c1828d1",
   "metadata": {},
   "outputs": [],
   "source": []
  },
  {
   "cell_type": "markdown",
   "id": "7028393c-26aa-42e5-8d13-c83ea7769284",
   "metadata": {},
   "source": [
    " #########################################################################################################################\n",
    "## PHASE 8: Deployment\n",
    "\n",
    "**Description:** In this phase, the data scientist deploys the trained model into the production environment to make predictions or generate insights.\n",
    "\n",
    "**Inputs:**\n",
    "\n",
    "* Improved model: This input is the model that has been fine-tuned to achieve better performance.\n",
    "* Production environment: This input consists of the hardware and software infrastructure used to deploy and run the model in production.\n",
    "* Deployment requirements: This input consists of the specific requirements for deploying the model, such as scalability, reliability, and security.\n",
    "\n",
    "**Outputs:**\n",
    "\n",
    "* Deployed model: The output of this phase is the model that has been deployed in the production environment and is ready to be used for prediction or generating insights."
   ]
  },
  {
   "cell_type": "code",
   "execution_count": null,
   "id": "52b30dfa-56c3-4920-93e9-02876b46ac96",
   "metadata": {},
   "outputs": [],
   "source": []
  },
  {
   "cell_type": "markdown",
   "id": "28396afb-3810-4c84-949f-15002afce1d9",
   "metadata": {},
   "source": [
    " #########################################################################################################################\n",
    "## PHASE 9: Monitoring and Maintenance\n",
    "\n",
    "**Description:** In this phase, the data scientist monitors the performance of the deployed model and performs regular maintenance to ensure that it continues to perform well.\n",
    "\n",
    "**Inputs:**\n",
    "\n",
    "* Deployed model: This input is the model that has been deployed in the production environment.\n",
    "* Performance metrics: This input consists of the metrics used to monitor the performance of the model. Classification models use metrics such as: accuracy, precision, recall, F1 score and ROC-AUC. Regression models use metrics such as: mean squared error, mean absolute error, negative mean absolute error, negative mean absolute error, mean absolute percentile error, r2, explained variance score, etc.\n",
    "* Maintenance requirements: This input consists of the specific requirements for maintaining the model, such as updating the model parameters or retraining the model with new data.\n",
    "\n",
    "**Outputs:**\n",
    "\n",
    "* Maintained model: The output of this phase is the model that has been regularly maintained to ensure that it continues to perform well in the production environment."
   ]
  },
  {
   "cell_type": "code",
   "execution_count": null,
   "id": "edd54c60-cb47-4e03-9f71-a8c2315d1106",
   "metadata": {},
   "outputs": [],
   "source": []
  },
  {
   "cell_type": "markdown",
   "id": "11014dd8-7670-4652-b73c-eda6a2dea15e",
   "metadata": {},
   "source": [
    " #########################################################################################################################\n",
    "## PHASE 10: Results Communication\n",
    "\n",
    "**Description:** This final phase focuses on presenting the insights gained from the data science project, which are communicated to stakeholders in a clear and understandable manner, and the results are shared in a way that is easily understood by non-technical audiences, such as executives or clients. \n",
    "\n",
    "It involves creating visualizations, reports, and presentations that effectively convey the results of the project and any insights that were gained from the data. The goal is to ensure that the stakeholders can understand the impact and implications of the project and make informed decisions based on the results.\n",
    "\n",
    "This phase also involves identifying areas for future improvement and considering the implications of the results for the organization as a whole.\n",
    "\n",
    "**Inputs:**\n",
    "\n",
    "* Maintained model: This input is the model that has been regularly maintained to ensure that it continues to perform well in the production environment.\n",
    "* Insights and results: This input consists of the insights and results generated by the model, such as predictions, recommendations, or visualizations.\n",
    "* Storytelling requirements: This input consists of the specific requirements for communicating the insights and results, such as audience, format, and tone.\n",
    "\n",
    "**Outputs:**\n",
    "\n",
    "* Data insights and story: The output of this phase is the communication of the insights and results generated by the model to the stakeholders, in a way that is clear, concise, and engaging. The data scientist tells the story of how the research question was answered, and how the insights and results can be used to inform decision-making or drive business value."
   ]
  },
  {
   "cell_type": "code",
   "execution_count": null,
   "id": "960eb118-ae94-4a1e-b98a-7b583c5d8d96",
   "metadata": {},
   "outputs": [],
   "source": []
  }
 ],
 "metadata": {
  "kernelspec": {
   "display_name": "Python 3 (ipykernel)",
   "language": "python",
   "name": "python3"
  },
  "language_info": {
   "codemirror_mode": {
    "name": "ipython",
    "version": 3
   },
   "file_extension": ".py",
   "mimetype": "text/x-python",
   "name": "python",
   "nbconvert_exporter": "python",
   "pygments_lexer": "ipython3",
   "version": "3.9.12"
  },
  "widgets": {
   "application/vnd.jupyter.widget-state+json": {
    "state": {},
    "version_major": 2,
    "version_minor": 0
   }
  }
 },
 "nbformat": 4,
 "nbformat_minor": 5
}
