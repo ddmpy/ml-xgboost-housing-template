{
 "cells": [
  {
   "cell_type": "markdown",
   "id": "78eee1a3-e0ba-4a23-9a3b-f205ebb1cdda",
   "metadata": {
    "tags": []
   },
   "source": [
    " #########################################################################################################################\n",
    "## PHASE 6: Modeling\n",
    "\n",
    "**Description:** In this phase, the data scientist selects a suitable model, trains it on the data, and tests its performance.\n",
    "\n",
    "**Inputs:**\n",
    "\n",
    "* Engineered or preprocessed data: This input is the data prepared in the previous phase.\n",
    "* Model selection criteria: This input consists of the criteria used to select a suitable model, such as accuracy, interpretability, and scalability.\n",
    "\n",
    "**Outputs:**\n",
    "\n",
    "* Trained model: The output of this phase is the trained model that can be used to make predictions or generate insights.\n",
    "\n",
    " #########################################################################################################################\n",
    "## PHASE 7: Model Evaluation\n",
    "\n",
    "**Description:** In this phase, the data scientist evaluates the performance of the model and fine-tunes its parameters to improve its accuracy and robustness.\n",
    "\n",
    "**Inputs:**\n",
    "\n",
    "* Trained model: This input is the model trained in the previous phase.\n",
    "    Evaluation criteria: This input consists of the criteria used to evaluate the performance of the model. Classification models use metrics such as: accuracy, precision, recall, F1 score and ROC-AUC. Regression models use metrics such as: mean squared error, mean absolute error, negative mean absolute error, negative mean absolute error, mean absolute percentile error, r2, explained variance score, etc.\n",
    "\n",
    "**Outputs:**\n",
    "\n",
    "* Improved model: The output of this phase is the model that has been fine-tuned to achieve better performance.\n",
    "\n",
    " #########################################################################################################################"
   ]
  },
  {
   "cell_type": "code",
   "execution_count": 1,
   "id": "90c9e555-3b14-45a5-a25c-b2944267f426",
   "metadata": {
    "scrolled": true,
    "tags": []
   },
   "outputs": [
    {
     "ename": "NameError",
     "evalue": "name 'LinearRegression' is not defined",
     "output_type": "error",
     "traceback": [
      "\u001b[0;31m---------------------------------------------------------------------------\u001b[0m",
      "\u001b[0;31mNameError\u001b[0m                                 Traceback (most recent call last)",
      "Input \u001b[0;32mIn [1]\u001b[0m, in \u001b[0;36m<cell line: 3>\u001b[0;34m()\u001b[0m\n\u001b[1;32m      1\u001b[0m models \u001b[38;5;241m=\u001b[39m {\n\u001b[1;32m      2\u001b[0m     \u001b[38;5;124m'\u001b[39m\u001b[38;5;124mLinear Regression\u001b[39m\u001b[38;5;124m'\u001b[39m: {\n\u001b[0;32m----> 3\u001b[0m         \u001b[38;5;124m'\u001b[39m\u001b[38;5;124mmodel\u001b[39m\u001b[38;5;124m'\u001b[39m: \u001b[43mLinearRegression\u001b[49m(),\n\u001b[1;32m      4\u001b[0m         \u001b[38;5;124m'\u001b[39m\u001b[38;5;124mparams\u001b[39m\u001b[38;5;124m'\u001b[39m: {\n\u001b[1;32m      5\u001b[0m             \u001b[38;5;124m'\u001b[39m\u001b[38;5;124mnormalize\u001b[39m\u001b[38;5;124m'\u001b[39m: [\u001b[38;5;28;01mTrue\u001b[39;00m, \u001b[38;5;28;01mFalse\u001b[39;00m]\n\u001b[1;32m      6\u001b[0m         }\n\u001b[1;32m      7\u001b[0m     },\n\u001b[1;32m      8\u001b[0m     \u001b[38;5;124m'\u001b[39m\u001b[38;5;124mLasso Regression\u001b[39m\u001b[38;5;124m'\u001b[39m: {\n\u001b[1;32m      9\u001b[0m         \u001b[38;5;124m'\u001b[39m\u001b[38;5;124mmodel\u001b[39m\u001b[38;5;124m'\u001b[39m: Lasso(),\n\u001b[1;32m     10\u001b[0m         \u001b[38;5;124m'\u001b[39m\u001b[38;5;124mparams\u001b[39m\u001b[38;5;124m'\u001b[39m: {\n\u001b[1;32m     11\u001b[0m             \u001b[38;5;124m'\u001b[39m\u001b[38;5;124malpha\u001b[39m\u001b[38;5;124m'\u001b[39m: [\u001b[38;5;241m0.01\u001b[39m, \u001b[38;5;241m0.1\u001b[39m, \u001b[38;5;241m1\u001b[39m, \u001b[38;5;241m10\u001b[39m]\n\u001b[1;32m     12\u001b[0m         }\n\u001b[1;32m     13\u001b[0m     },\n\u001b[1;32m     14\u001b[0m     \u001b[38;5;124m'\u001b[39m\u001b[38;5;124mRidge Regression\u001b[39m\u001b[38;5;124m'\u001b[39m: {\n\u001b[1;32m     15\u001b[0m         \u001b[38;5;124m'\u001b[39m\u001b[38;5;124mmodel\u001b[39m\u001b[38;5;124m'\u001b[39m: Ridge(),\n\u001b[1;32m     16\u001b[0m         \u001b[38;5;124m'\u001b[39m\u001b[38;5;124mparams\u001b[39m\u001b[38;5;124m'\u001b[39m: {\n\u001b[1;32m     17\u001b[0m             \u001b[38;5;124m'\u001b[39m\u001b[38;5;124malpha\u001b[39m\u001b[38;5;124m'\u001b[39m: [\u001b[38;5;241m0.01\u001b[39m, \u001b[38;5;241m0.1\u001b[39m, \u001b[38;5;241m1\u001b[39m, \u001b[38;5;241m10\u001b[39m]\n\u001b[1;32m     18\u001b[0m         }\n\u001b[1;32m     19\u001b[0m     },\n\u001b[1;32m     20\u001b[0m     \u001b[38;5;124m'\u001b[39m\u001b[38;5;124mElastic Net Regression\u001b[39m\u001b[38;5;124m'\u001b[39m: {\n\u001b[1;32m     21\u001b[0m         \u001b[38;5;124m'\u001b[39m\u001b[38;5;124mmodel\u001b[39m\u001b[38;5;124m'\u001b[39m: ElasticNet(),\n\u001b[1;32m     22\u001b[0m         \u001b[38;5;124m'\u001b[39m\u001b[38;5;124mparams\u001b[39m\u001b[38;5;124m'\u001b[39m: {\n\u001b[1;32m     23\u001b[0m             \u001b[38;5;124m'\u001b[39m\u001b[38;5;124malpha\u001b[39m\u001b[38;5;124m'\u001b[39m: [\u001b[38;5;241m0.01\u001b[39m, \u001b[38;5;241m0.1\u001b[39m, \u001b[38;5;241m1\u001b[39m, \u001b[38;5;241m10\u001b[39m],\n\u001b[1;32m     24\u001b[0m             \u001b[38;5;124m'\u001b[39m\u001b[38;5;124ml1_ratio\u001b[39m\u001b[38;5;124m'\u001b[39m: [\u001b[38;5;241m0.25\u001b[39m, \u001b[38;5;241m0.5\u001b[39m, \u001b[38;5;241m0.75\u001b[39m]\n\u001b[1;32m     25\u001b[0m         }\n\u001b[1;32m     26\u001b[0m     },\n\u001b[1;32m     27\u001b[0m     \u001b[38;5;124m'\u001b[39m\u001b[38;5;124mSupport Vector Regression\u001b[39m\u001b[38;5;124m'\u001b[39m: {\n\u001b[1;32m     28\u001b[0m         \u001b[38;5;124m'\u001b[39m\u001b[38;5;124mmodel\u001b[39m\u001b[38;5;124m'\u001b[39m: SVR(),\n\u001b[1;32m     29\u001b[0m         \u001b[38;5;124m'\u001b[39m\u001b[38;5;124mparams\u001b[39m\u001b[38;5;124m'\u001b[39m: {\n\u001b[1;32m     30\u001b[0m             \u001b[38;5;124m'\u001b[39m\u001b[38;5;124mkernel\u001b[39m\u001b[38;5;124m'\u001b[39m: [\u001b[38;5;124m'\u001b[39m\u001b[38;5;124mlinear\u001b[39m\u001b[38;5;124m'\u001b[39m, \u001b[38;5;124m'\u001b[39m\u001b[38;5;124mpoly\u001b[39m\u001b[38;5;124m'\u001b[39m, \u001b[38;5;124m'\u001b[39m\u001b[38;5;124mrbf\u001b[39m\u001b[38;5;124m'\u001b[39m, \u001b[38;5;124m'\u001b[39m\u001b[38;5;124msigmoid\u001b[39m\u001b[38;5;124m'\u001b[39m],\n\u001b[1;32m     31\u001b[0m             \u001b[38;5;124m'\u001b[39m\u001b[38;5;124mC\u001b[39m\u001b[38;5;124m'\u001b[39m: [\u001b[38;5;241m0.1\u001b[39m, \u001b[38;5;241m1\u001b[39m, \u001b[38;5;241m10\u001b[39m],\n\u001b[1;32m     32\u001b[0m             \u001b[38;5;124m'\u001b[39m\u001b[38;5;124mepsilon\u001b[39m\u001b[38;5;124m'\u001b[39m: [\u001b[38;5;241m0.01\u001b[39m, \u001b[38;5;241m0.1\u001b[39m, \u001b[38;5;241m1\u001b[39m]\n\u001b[1;32m     33\u001b[0m         }\n\u001b[1;32m     34\u001b[0m     },\n\u001b[1;32m     35\u001b[0m     \u001b[38;5;124m'\u001b[39m\u001b[38;5;124mGradient Boosting Regression\u001b[39m\u001b[38;5;124m'\u001b[39m: {\n\u001b[1;32m     36\u001b[0m         \u001b[38;5;124m'\u001b[39m\u001b[38;5;124mmodel\u001b[39m\u001b[38;5;124m'\u001b[39m: GradientBoostingRegressor(),\n\u001b[1;32m     37\u001b[0m         \u001b[38;5;124m'\u001b[39m\u001b[38;5;124mparams\u001b[39m\u001b[38;5;124m'\u001b[39m: {\n\u001b[1;32m     38\u001b[0m             \u001b[38;5;124m'\u001b[39m\u001b[38;5;124mn_estimators\u001b[39m\u001b[38;5;124m'\u001b[39m: [\u001b[38;5;241m50\u001b[39m, \u001b[38;5;241m100\u001b[39m, \u001b[38;5;241m150\u001b[39m],\n\u001b[1;32m     39\u001b[0m             \u001b[38;5;124m'\u001b[39m\u001b[38;5;124mlearning_rate\u001b[39m\u001b[38;5;124m'\u001b[39m: [\u001b[38;5;241m0.01\u001b[39m, \u001b[38;5;241m0.1\u001b[39m, \u001b[38;5;241m1\u001b[39m],\n\u001b[1;32m     40\u001b[0m             \u001b[38;5;124m'\u001b[39m\u001b[38;5;124mmax_depth\u001b[39m\u001b[38;5;124m'\u001b[39m: [\u001b[38;5;241m3\u001b[39m, \u001b[38;5;241m5\u001b[39m, \u001b[38;5;241m7\u001b[39m],\n\u001b[1;32m     41\u001b[0m             \u001b[38;5;124m'\u001b[39m\u001b[38;5;124msubsample\u001b[39m\u001b[38;5;124m'\u001b[39m: [\u001b[38;5;241m0.5\u001b[39m, \u001b[38;5;241m0.75\u001b[39m, \u001b[38;5;241m1\u001b[39m]\n\u001b[1;32m     42\u001b[0m         }\n\u001b[1;32m     43\u001b[0m     },\n\u001b[1;32m     44\u001b[0m     \u001b[38;5;124m'\u001b[39m\u001b[38;5;124mAdaBoost Regression\u001b[39m\u001b[38;5;124m'\u001b[39m: {\n\u001b[1;32m     45\u001b[0m         \u001b[38;5;124m'\u001b[39m\u001b[38;5;124mmodel\u001b[39m\u001b[38;5;124m'\u001b[39m: AdaBoostRegressor(),\n\u001b[1;32m     46\u001b[0m         \u001b[38;5;124m'\u001b[39m\u001b[38;5;124mparams\u001b[39m\u001b[38;5;124m'\u001b[39m: {\n\u001b[1;32m     47\u001b[0m             \u001b[38;5;124m'\u001b[39m\u001b[38;5;124mn_estimators\u001b[39m\u001b[38;5;124m'\u001b[39m: [\u001b[38;5;241m50\u001b[39m, \u001b[38;5;241m100\u001b[39m, \u001b[38;5;241m150\u001b[39m],\n\u001b[1;32m     48\u001b[0m             \u001b[38;5;124m'\u001b[39m\u001b[38;5;124mlearning_rate\u001b[39m\u001b[38;5;124m'\u001b[39m: [\u001b[38;5;241m0.01\u001b[39m, \u001b[38;5;241m0.1\u001b[39m, \u001b[38;5;241m1\u001b[39m],\n\u001b[1;32m     49\u001b[0m             \u001b[38;5;124m'\u001b[39m\u001b[38;5;124mloss\u001b[39m\u001b[38;5;124m'\u001b[39m: [\u001b[38;5;124m'\u001b[39m\u001b[38;5;124mlinear\u001b[39m\u001b[38;5;124m'\u001b[39m, \u001b[38;5;124m'\u001b[39m\u001b[38;5;124msquare\u001b[39m\u001b[38;5;124m'\u001b[39m, \u001b[38;5;124m'\u001b[39m\u001b[38;5;124mexponential\u001b[39m\u001b[38;5;124m'\u001b[39m]\n\u001b[1;32m     50\u001b[0m         }\n\u001b[1;32m     51\u001b[0m     },\n\u001b[1;32m     52\u001b[0m     \u001b[38;5;124m'\u001b[39m\u001b[38;5;124mXGBoost Regression\u001b[39m\u001b[38;5;124m'\u001b[39m: {\n\u001b[1;32m     53\u001b[0m         \u001b[38;5;124m'\u001b[39m\u001b[38;5;124mmodel\u001b[39m\u001b[38;5;124m'\u001b[39m: XGBRegressor(),\n\u001b[1;32m     54\u001b[0m         \u001b[38;5;124m'\u001b[39m\u001b[38;5;124mparams\u001b[39m\u001b[38;5;124m'\u001b[39m: {\n\u001b[1;32m     55\u001b[0m             \u001b[38;5;124m'\u001b[39m\u001b[38;5;124mmax_depth\u001b[39m\u001b[38;5;124m'\u001b[39m: [\u001b[38;5;241m3\u001b[39m, \u001b[38;5;241m5\u001b[39m, \u001b[38;5;241m7\u001b[39m],\n\u001b[1;32m     56\u001b[0m             \u001b[38;5;124m'\u001b[39m\u001b[38;5;124mlearning_rate\u001b[39m\u001b[38;5;124m'\u001b[39m: [\u001b[38;5;241m0.1\u001b[39m, \u001b[38;5;241m0.01\u001b[39m, \u001b[38;5;241m0.001\u001b[39m],\n\u001b[1;32m     57\u001b[0m             \u001b[38;5;124m'\u001b[39m\u001b[38;5;124mn_estimators\u001b[39m\u001b[38;5;124m'\u001b[39m: [\u001b[38;5;241m50\u001b[39m, \u001b[38;5;241m100\u001b[39m, \u001b[38;5;241m150\u001b[39m]\n\u001b[1;32m     58\u001b[0m         }\n\u001b[1;32m     59\u001b[0m     },\n\u001b[1;32m     60\u001b[0m     \u001b[38;5;124m'\u001b[39m\u001b[38;5;124mRandom Forest Regression\u001b[39m\u001b[38;5;124m'\u001b[39m: {\n\u001b[1;32m     61\u001b[0m         \u001b[38;5;124m'\u001b[39m\u001b[38;5;124mmodel\u001b[39m\u001b[38;5;124m'\u001b[39m: RandomForestRegressor(),\n\u001b[1;32m     62\u001b[0m         \u001b[38;5;124m'\u001b[39m\u001b[38;5;124mparams\u001b[39m\u001b[38;5;124m'\u001b[39m: {\n\u001b[1;32m     63\u001b[0m             \u001b[38;5;124m'\u001b[39m\u001b[38;5;124mn_estimators\u001b[39m\u001b[38;5;124m'\u001b[39m: [\u001b[38;5;241m50\u001b[39m, \u001b[38;5;241m100\u001b[39m, \u001b[38;5;241m150\u001b[39m],\n\u001b[1;32m     64\u001b[0m             \u001b[38;5;124m'\u001b[39m\u001b[38;5;124mmax_depth\u001b[39m\u001b[38;5;124m'\u001b[39m: [\u001b[38;5;241m3\u001b[39m, \u001b[38;5;241m5\u001b[39m, \u001b[38;5;241m7\u001b[39m],\n\u001b[1;32m     65\u001b[0m             \u001b[38;5;124m'\u001b[39m\u001b[38;5;124mmax_features\u001b[39m\u001b[38;5;124m'\u001b[39m: [\u001b[38;5;124m'\u001b[39m\u001b[38;5;124msqrt\u001b[39m\u001b[38;5;124m'\u001b[39m, \u001b[38;5;124m'\u001b[39m\u001b[38;5;124mlog2\u001b[39m\u001b[38;5;124m'\u001b[39m]\n\u001b[1;32m     66\u001b[0m         }\n\u001b[1;32m     67\u001b[0m     },\n\u001b[1;32m     68\u001b[0m     \u001b[38;5;124m'\u001b[39m\u001b[38;5;124mExtra Trees Regression\u001b[39m\u001b[38;5;124m'\u001b[39m: {\n\u001b[1;32m     69\u001b[0m         \u001b[38;5;124m'\u001b[39m\u001b[38;5;124mmodel\u001b[39m\u001b[38;5;124m'\u001b[39m: ExtraTreesRegressor(),\n\u001b[1;32m     70\u001b[0m         \u001b[38;5;124m'\u001b[39m\u001b[38;5;124mparams\u001b[39m\u001b[38;5;124m'\u001b[39m: {\n\u001b[1;32m     71\u001b[0m             \u001b[38;5;124m'\u001b[39m\u001b[38;5;124mn_estimators\u001b[39m\u001b[38;5;124m'\u001b[39m: [\u001b[38;5;241m50\u001b[39m, \u001b[38;5;241m100\u001b[39m, \u001b[38;5;241m150\u001b[39m],\n\u001b[1;32m     72\u001b[0m             \u001b[38;5;124m'\u001b[39m\u001b[38;5;124mmax_depth\u001b[39m\u001b[38;5;124m'\u001b[39m: [\u001b[38;5;241m3\u001b[39m, \u001b[38;5;241m5\u001b[39m, \u001b[38;5;241m7\u001b[39m],\n\u001b[1;32m     73\u001b[0m             \u001b[38;5;124m'\u001b[39m\u001b[38;5;124mmax_features\u001b[39m\u001b[38;5;124m'\u001b[39m: [\u001b[38;5;124m'\u001b[39m\u001b[38;5;124msqrt\u001b[39m\u001b[38;5;124m'\u001b[39m, \u001b[38;5;124m'\u001b[39m\u001b[38;5;124mlog2\u001b[39m\u001b[38;5;124m'\u001b[39m]\n\u001b[1;32m     74\u001b[0m         }\n\u001b[1;32m     75\u001b[0m     }\n\u001b[1;32m     76\u001b[0m }\n",
      "\u001b[0;31mNameError\u001b[0m: name 'LinearRegression' is not defined"
     ]
    }
   ],
   "source": [
    "models = {\n",
    "    'Linear Regression': {\n",
    "        'model': LinearRegression(),\n",
    "        'params': {\n",
    "            'normalize': [True, False]\n",
    "        }\n",
    "    },\n",
    "    'Lasso Regression': {\n",
    "        'model': Lasso(),\n",
    "        'params': {\n",
    "            'alpha': [0.01, 0.1, 1, 10]\n",
    "        }\n",
    "    },\n",
    "    'Ridge Regression': {\n",
    "        'model': Ridge(),\n",
    "        'params': {\n",
    "            'alpha': [0.01, 0.1, 1, 10]\n",
    "        }\n",
    "    },\n",
    "    'Elastic Net Regression': {\n",
    "        'model': ElasticNet(),\n",
    "        'params': {\n",
    "            'alpha': [0.01, 0.1, 1, 10],\n",
    "            'l1_ratio': [0.25, 0.5, 0.75]\n",
    "        }\n",
    "    },\n",
    "    'Support Vector Regression': {\n",
    "        'model': SVR(),\n",
    "        'params': {\n",
    "            'kernel': ['linear', 'poly', 'rbf', 'sigmoid'],\n",
    "            'C': [0.1, 1, 10],\n",
    "            'epsilon': [0.01, 0.1, 1]\n",
    "        }\n",
    "    },\n",
    "    'Gradient Boosting Regression': {\n",
    "        'model': GradientBoostingRegressor(),\n",
    "        'params': {\n",
    "            'n_estimators': [50, 100, 150],\n",
    "            'learning_rate': [0.01, 0.1, 1],\n",
    "            'max_depth': [3, 5, 7],\n",
    "            'subsample': [0.5, 0.75, 1]\n",
    "        }\n",
    "    },\n",
    "    'AdaBoost Regression': {\n",
    "        'model': AdaBoostRegressor(),\n",
    "        'params': {\n",
    "            'n_estimators': [50, 100, 150],\n",
    "            'learning_rate': [0.01, 0.1, 1],\n",
    "            'loss': ['linear', 'square', 'exponential']\n",
    "        }\n",
    "    },\n",
    "    'XGBoost Regression': {\n",
    "        'model': XGBRegressor(),\n",
    "        'params': {\n",
    "            'max_depth': [3, 5, 7],\n",
    "            'learning_rate': [0.1, 0.01, 0.001],\n",
    "            'n_estimators': [50, 100, 150]\n",
    "        }\n",
    "    },\n",
    "    'Random Forest Regression': {\n",
    "        'model': RandomForestRegressor(),\n",
    "        'params': {\n",
    "            'n_estimators': [50, 100, 150],\n",
    "            'max_depth': [3, 5, 7],\n",
    "            'max_features': ['sqrt', 'log2']\n",
    "        }\n",
    "    },\n",
    "    'Extra Trees Regression': {\n",
    "        'model': ExtraTreesRegressor(),\n",
    "        'params': {\n",
    "            'n_estimators': [50, 100, 150],\n",
    "            'max_depth': [3, 5, 7],\n",
    "            'max_features': ['sqrt', 'log2']\n",
    "        }\n",
    "    }\n",
    "}"
   ]
  },
  {
   "cell_type": "code",
   "execution_count": 4,
   "id": "b0cdf3ad-2752-4818-a23c-a37ae5c7788b",
   "metadata": {},
   "outputs": [
    {
     "ename": "ValueError",
     "evalue": "not enough values to unpack (expected 2, got 0)",
     "output_type": "error",
     "traceback": [
      "\u001b[0;31m---------------------------------------------------------------------------\u001b[0m",
      "\u001b[0;31mValueError\u001b[0m                                Traceback (most recent call last)",
      "Input \u001b[0;32mIn [4]\u001b[0m, in \u001b[0;36m<cell line: 12>\u001b[0;34m()\u001b[0m\n\u001b[1;32m      8\u001b[0m \u001b[38;5;28;01mfrom\u001b[39;00m \u001b[38;5;21;01msklearn\u001b[39;00m\u001b[38;5;21;01m.\u001b[39;00m\u001b[38;5;21;01mmetrics\u001b[39;00m \u001b[38;5;28;01mimport\u001b[39;00m mean_squared_error\n\u001b[1;32m     11\u001b[0m \u001b[38;5;66;03m# assume X_train, y_train, X_valid, y_valid, X_test, y_test are pandas dataframes\u001b[39;00m\n\u001b[0;32m---> 12\u001b[0m preprocessing_pipeline \u001b[38;5;241m=\u001b[39m \u001b[43mPipeline\u001b[49m\u001b[43m(\u001b[49m\u001b[43m[\u001b[49m\n\u001b[1;32m     13\u001b[0m \u001b[43m    \u001b[49m\u001b[38;5;66;43;03m# add your preprocessing steps here\u001b[39;49;00m\n\u001b[1;32m     14\u001b[0m \u001b[43m]\u001b[49m\u001b[43m)\u001b[49m\n\u001b[1;32m     16\u001b[0m X_train_transformed \u001b[38;5;241m=\u001b[39m preprocessing_pipeline\u001b[38;5;241m.\u001b[39mfit_transform(X_train, y_train)\n\u001b[1;32m     17\u001b[0m X_valid_transformed \u001b[38;5;241m=\u001b[39m preprocessing_pipeline\u001b[38;5;241m.\u001b[39mtransform(X_valid)\n",
      "File \u001b[0;32m~/anaconda3/lib/python3.9/site-packages/sklearn/pipeline.py:148\u001b[0m, in \u001b[0;36mPipeline.__init__\u001b[0;34m(self, steps, memory, verbose)\u001b[0m\n\u001b[1;32m    146\u001b[0m \u001b[38;5;28mself\u001b[39m\u001b[38;5;241m.\u001b[39mmemory \u001b[38;5;241m=\u001b[39m memory\n\u001b[1;32m    147\u001b[0m \u001b[38;5;28mself\u001b[39m\u001b[38;5;241m.\u001b[39mverbose \u001b[38;5;241m=\u001b[39m verbose\n\u001b[0;32m--> 148\u001b[0m \u001b[38;5;28;43mself\u001b[39;49m\u001b[38;5;241;43m.\u001b[39;49m\u001b[43m_validate_steps\u001b[49m\u001b[43m(\u001b[49m\u001b[43m)\u001b[49m\n",
      "File \u001b[0;32m~/anaconda3/lib/python3.9/site-packages/sklearn/pipeline.py:192\u001b[0m, in \u001b[0;36mPipeline._validate_steps\u001b[0;34m(self)\u001b[0m\n\u001b[1;32m    191\u001b[0m \u001b[38;5;28;01mdef\u001b[39;00m \u001b[38;5;21m_validate_steps\u001b[39m(\u001b[38;5;28mself\u001b[39m):\n\u001b[0;32m--> 192\u001b[0m     names, estimators \u001b[38;5;241m=\u001b[39m \u001b[38;5;28mzip\u001b[39m(\u001b[38;5;241m*\u001b[39m\u001b[38;5;28mself\u001b[39m\u001b[38;5;241m.\u001b[39msteps)\n\u001b[1;32m    194\u001b[0m     \u001b[38;5;66;03m# validate names\u001b[39;00m\n\u001b[1;32m    195\u001b[0m     \u001b[38;5;28mself\u001b[39m\u001b[38;5;241m.\u001b[39m_validate_names(names)\n",
      "\u001b[0;31mValueError\u001b[0m: not enough values to unpack (expected 2, got 0)"
     ]
    }
   ],
   "source": [
    "import pandas as pd\n",
    "from sklearn.pipeline import Pipeline\n",
    "from sklearn.model_selection import GridSearchCV\n",
    "from sklearn.ensemble import RandomForestRegressor\n",
    "from xgboost import XGBRegressor\n",
    "from sklearn.linear_model import LinearRegression, Lasso, Ridge\n",
    "from sklearn.svm import SVR\n",
    "from sklearn.metrics import mean_squared_error\n",
    "\n",
    "\n",
    "# assume X_train, y_train, X_valid, y_valid, X_test, y_test are pandas dataframes\n",
    "preprocessing_pipeline = Pipeline([\n",
    "    # add your preprocessing steps here\n",
    "])\n",
    "\n",
    "X_train_transformed = preprocessing_pipeline.fit_transform(X_train, y_train)\n",
    "X_valid_transformed = preprocessing_pipeline.transform(X_valid)\n",
    "X_test_transformed = preprocessing_pipeline.transform(X_test)"
   ]
  },
  {
   "cell_type": "markdown",
   "id": "ba8d3d25-57d3-4178-afe5-2c00c596ae8d",
   "metadata": {},
   "source": [
    "## Define models dictionary"
   ]
  },
  {
   "cell_type": "code",
   "execution_count": 5,
   "id": "e12685d5-c181-42b4-b517-85bda770ad44",
   "metadata": {},
   "outputs": [
    {
     "ename": "NameError",
     "evalue": "name 'XGBRegressor' is not defined",
     "output_type": "error",
     "traceback": [
      "\u001b[0;31m---------------------------------------------------------------------------\u001b[0m",
      "\u001b[0;31mNameError\u001b[0m                                 Traceback (most recent call last)",
      "Input \u001b[0;32mIn [5]\u001b[0m, in \u001b[0;36m<cell line: 55>\u001b[0;34m()\u001b[0m\n\u001b[1;32m     42\u001b[0m models[\u001b[38;5;124m'\u001b[39m\u001b[38;5;124mRandom Forest Regression\u001b[39m\u001b[38;5;124m'\u001b[39m] \u001b[38;5;241m=\u001b[39m {\n\u001b[1;32m     43\u001b[0m     \u001b[38;5;124m'\u001b[39m\u001b[38;5;124mmodel\u001b[39m\u001b[38;5;124m'\u001b[39m: RandomForestRegressor(),\n\u001b[1;32m     44\u001b[0m     \u001b[38;5;124m'\u001b[39m\u001b[38;5;124mparams\u001b[39m\u001b[38;5;124m'\u001b[39m: {\n\u001b[0;32m   (...)\u001b[0m\n\u001b[1;32m     50\u001b[0m     }\n\u001b[1;32m     51\u001b[0m }\n\u001b[1;32m     53\u001b[0m \u001b[38;5;66;03m# XGBoost Regression\u001b[39;00m\n\u001b[1;32m     54\u001b[0m models[\u001b[38;5;124m'\u001b[39m\u001b[38;5;124mXGBoost Regression\u001b[39m\u001b[38;5;124m'\u001b[39m] \u001b[38;5;241m=\u001b[39m {\n\u001b[0;32m---> 55\u001b[0m     \u001b[38;5;124m'\u001b[39m\u001b[38;5;124mmodel\u001b[39m\u001b[38;5;124m'\u001b[39m: \u001b[43mXGBRegressor\u001b[49m(),\n\u001b[1;32m     56\u001b[0m     \u001b[38;5;124m'\u001b[39m\u001b[38;5;124mparams\u001b[39m\u001b[38;5;124m'\u001b[39m: {\n\u001b[1;32m     57\u001b[0m         \u001b[38;5;124m'\u001b[39m\u001b[38;5;124mlearning_rate\u001b[39m\u001b[38;5;124m'\u001b[39m: [\u001b[38;5;241m0.05\u001b[39m, \u001b[38;5;241m0.1\u001b[39m, \u001b[38;5;241m0.15\u001b[39m],\n\u001b[1;32m     58\u001b[0m         \u001b[38;5;124m'\u001b[39m\u001b[38;5;124mmax_depth\u001b[39m\u001b[38;5;124m'\u001b[39m: [\u001b[38;5;241m3\u001b[39m, \u001b[38;5;241m5\u001b[39m, \u001b[38;5;241m7\u001b[39m, \u001b[38;5;241m9\u001b[39m],\n\u001b[1;32m     59\u001b[0m         \u001b[38;5;124m'\u001b[39m\u001b[38;5;124mn_estimators\u001b[39m\u001b[38;5;124m'\u001b[39m: [\u001b[38;5;241m50\u001b[39m, \u001b[38;5;241m100\u001b[39m, \u001b[38;5;241m150\u001b[39m, \u001b[38;5;241m200\u001b[39m],\n\u001b[1;32m     60\u001b[0m         \u001b[38;5;124m'\u001b[39m\u001b[38;5;124mobjective\u001b[39m\u001b[38;5;124m'\u001b[39m: [\u001b[38;5;124m'\u001b[39m\u001b[38;5;124mreg:squarederror\u001b[39m\u001b[38;5;124m'\u001b[39m]\n\u001b[1;32m     61\u001b[0m     }\n\u001b[1;32m     62\u001b[0m }\n",
      "\u001b[0;31mNameError\u001b[0m: name 'XGBRegressor' is not defined"
     ]
    }
   ],
   "source": [
    "models = {}\n",
    "\n",
    "# Linear Regression\n",
    "models['Linear Regression'] = {\n",
    "    'model': LinearRegression(),\n",
    "    'params': {\n",
    "        'normalize': [True, False]\n",
    "    }\n",
    "}\n",
    "\n",
    "# Lasso Regression\n",
    "models['Lasso Regression'] = {\n",
    "    'model': Lasso(),\n",
    "    'params': {\n",
    "        'alpha': [0.1, 0.5, 1, 2, 5, 10],\n",
    "        'normalize': [True, False],\n",
    "        'max_iter': [1000, 5000, 10000]\n",
    "    }\n",
    "}\n",
    "\n",
    "# Ridge Regression\n",
    "models['Ridge Regression'] = {\n",
    "    'model': Ridge(),\n",
    "    'params': {\n",
    "        'alpha': [0.1, 0.5, 1, 2, 5, 10],\n",
    "        'normalize': [True, False],\n",
    "        'max_iter': [1000, 5000, 10000]\n",
    "    }\n",
    "}\n",
    "\n",
    "# Support Vector Regression\n",
    "models['SVR'] = {\n",
    "    'model': SVR(),\n",
    "    'params': {\n",
    "        'C': [0.1, 0.5, 1, 2, 5, 10],\n",
    "        'kernel': ['linear', 'poly', 'rbf', 'sigmoid'],\n",
    "        'gamma': ['scale', 'auto']\n",
    "    }\n",
    "}\n",
    "\n",
    "# Random Forest Regression\n",
    "models['Random Forest Regression'] = {\n",
    "    'model': RandomForestRegressor(),\n",
    "    'params': {\n",
    "        'n_estimators': [50, 100, 150, 200],\n",
    "        'max_depth': [3, 5, 7, 9],\n",
    "        'min_samples_split': [2, 3, 4],\n",
    "        'min_samples_leaf': [1, 2, 3],\n",
    "        'bootstrap': [True, False]\n",
    "    }\n",
    "}\n",
    "\n",
    "# XGBoost Regression\n",
    "models['XGBoost Regression'] = {\n",
    "    'model': XGBRegressor(),\n",
    "    'params': {\n",
    "        'learning_rate': [0.05, 0.1, 0.15],\n",
    "        'max_depth': [3, 5, 7, 9],\n",
    "        'n_estimators': [50, 100, 150, 200],\n",
    "        'objective': ['reg:squarederror']\n",
    "    }\n",
    "}"
   ]
  },
  {
   "cell_type": "markdown",
   "id": "6019a029-1638-47bc-bd7f-9237a615eeea",
   "metadata": {},
   "source": [
    "## Let's first try a models dictionary with 1 model and only 4 possible combinations of hyperparameters"
   ]
  },
  {
   "cell_type": "code",
   "execution_count": null,
   "id": "74c22b3b-947d-4911-b85d-f4aa6a57ae60",
   "metadata": {},
   "outputs": [],
   "source": [
    "models = {}\n",
    "# XGBoost Regression\n",
    "models['XGBoost Regression'] = {\n",
    "    'model': XGBRegressor(),\n",
    "    'params': {\n",
    "        'learning_rate': [0.05],\n",
    "        'max_depth': [3, 5, 7, 9],\n",
    "        'n_estimators': [200],\n",
    "        'objective': ['reg:squarederror']\n",
    "    }\n",
    "}"
   ]
  },
  {
   "cell_type": "markdown",
   "id": "848fdf81-4e62-4187-be09-cfbc38431fc6",
   "metadata": {},
   "source": [
    "## Loop each model to train, tune, and retrain final model with best parameters and joined training+validation datasets"
   ]
  },
  {
   "cell_type": "code",
   "execution_count": null,
   "id": "421c53db-e11b-4293-ac60-46eed2db3fb3",
   "metadata": {},
   "outputs": [],
   "source": [
    "for model_name, model in models.items():\n",
    "    gs = GridSearchCV(model['model'], model['params'], cv=5,\n",
    "                      scoring='neg_mean_squared_error', return_train_score=True,\n",
    "                      n_jobs=-1, verbose=1, refit=True)\n",
    "    gs.fit(X_train_transformed, y_train,\n",
    "           eval_set=[(X_valid_transformed, y_valid)],\n",
    "           early_stopping_rounds=10)\n",
    "\n",
    "    # Get the best estimator and store it\n",
    "    best_model = gs.best_estimator_\n",
    "    model['best_model'] = best_model\n",
    "\n",
    "    # Join training and validation datasets for retraining best model with best parameters\n",
    "    X_train_valid = pd.concat([X_train, X_valid], axis=0)\n",
    "    y_train_valid = pd.concat([y_train, y_valid], axis=0)\n",
    "    \n",
    "    # Retrain best model with joined training+validation dataset using best hyperparameters\n",
    "    best_model.fit(X_train_valid, y_train_valid)\n",
    "    \n",
    "    # Store the final best model retrained with joined training+validation dataset and best hyperparameters\n",
    "    model['final_best_model'] = best_model\n",
    "    \n",
    "    # Evaluate the model on the test set and store the predictions and metric score\n",
    "    y_test_pred = best_model.predict(X_test)\n",
    "    test_mse = mean_squared_error(y_test, y_test_pred)\n",
    "    model['test_predictions'] = y_test_pred\n",
    "    model['test_mse'] = test_mse"
   ]
  },
  {
   "cell_type": "markdown",
   "id": "11f6644d-bff9-492b-94b1-d3074a1afc19",
   "metadata": {},
   "source": [
    "## "
   ]
  },
  {
   "cell_type": "markdown",
   "id": "9f40c065-00f3-4143-bcd4-6da201433cba",
   "metadata": {},
   "source": [
    "## Print the metrics yielded by each model in sorted order"
   ]
  },
  {
   "cell_type": "code",
   "execution_count": null,
   "id": "3bf1a437-1d92-4ded-a6c8-20c7ac8de2da",
   "metadata": {},
   "outputs": [],
   "source": [
    "# Print the test mean squared error for each model (not ordered)\n",
    "for model_name, model in models.items():\n",
    "    print(f'{model_name} test mean squared error: {model[\"test_mse\"]:.2f}')\n",
    "\n",
    "# Print the top models with the lowest test mean squared error (in ascending order)\n",
    "sorted_models = sorted(models.items(), key=lambda x: x[1]['test_mse'])\n",
    "print('\\nTop Models:')\n",
    "for i in range(len(models)):\n",
    "    model_name, model = sorted_models[i]\n",
    "    print(f'{i+1}: {model_name} test mean squared error: {model[\"test_mse\"]:.2f}')"
   ]
  }
 ],
 "metadata": {
  "kernelspec": {
   "display_name": "Python 3 (ipykernel)",
   "language": "python",
   "name": "python3"
  },
  "language_info": {
   "codemirror_mode": {
    "name": "ipython",
    "version": 3
   },
   "file_extension": ".py",
   "mimetype": "text/x-python",
   "name": "python",
   "nbconvert_exporter": "python",
   "pygments_lexer": "ipython3",
   "version": "3.9.12"
  },
  "widgets": {
   "application/vnd.jupyter.widget-state+json": {
    "state": {},
    "version_major": 2,
    "version_minor": 0
   }
  }
 },
 "nbformat": 4,
 "nbformat_minor": 5
}
